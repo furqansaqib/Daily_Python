{
 "cells": [
  {
   "cell_type": "code",
   "execution_count": 145,
   "metadata": {},
   "outputs": [
    {
     "name": "stderr",
     "output_type": "stream",
     "text": [
      "<ipython-input-145-d26b048ddbbe>:22: FutureWarning: The default value of regex will change from True to False in a future version.\n",
      "  df['state_code'] = df['state_code'].str.replace(r'[^a-zA-Z0-9]', '')\n",
      "<ipython-input-145-d26b048ddbbe>:35: FutureWarning: Indexing with multiple keys (implicitly converted to a tuple of keys) will be deprecated, use a list instead.\n",
      "  return grouped['english','maths','physics','chemistry'].sum()\n"
     ]
    },
    {
     "data": {
      "text/html": [
       "<div>\n",
       "<style scoped>\n",
       "    .dataframe tbody tr th:only-of-type {\n",
       "        vertical-align: middle;\n",
       "    }\n",
       "\n",
       "    .dataframe tbody tr th {\n",
       "        vertical-align: top;\n",
       "    }\n",
       "\n",
       "    .dataframe thead th {\n",
       "        text-align: right;\n",
       "    }\n",
       "</style>\n",
       "<table border=\"1\" class=\"dataframe\">\n",
       "  <thead>\n",
       "    <tr style=\"text-align: right;\">\n",
       "      <th></th>\n",
       "      <th>english</th>\n",
       "      <th>maths</th>\n",
       "      <th>physics</th>\n",
       "      <th>chemistry</th>\n",
       "    </tr>\n",
       "    <tr>\n",
       "      <th>state_code</th>\n",
       "      <th></th>\n",
       "      <th></th>\n",
       "      <th></th>\n",
       "      <th></th>\n",
       "    </tr>\n",
       "  </thead>\n",
       "  <tbody>\n",
       "    <tr>\n",
       "      <th>sc1</th>\n",
       "      <td>1</td>\n",
       "      <td>2</td>\n",
       "      <td>0</td>\n",
       "      <td>1</td>\n",
       "    </tr>\n",
       "    <tr>\n",
       "      <th>sc10</th>\n",
       "      <td>1</td>\n",
       "      <td>1</td>\n",
       "      <td>0</td>\n",
       "      <td>0</td>\n",
       "    </tr>\n",
       "    <tr>\n",
       "      <th>sc2</th>\n",
       "      <td>1</td>\n",
       "      <td>0</td>\n",
       "      <td>1</td>\n",
       "      <td>1</td>\n",
       "    </tr>\n",
       "  </tbody>\n",
       "</table>\n",
       "</div>"
      ],
      "text/plain": [
       "            english  maths  physics  chemistry\n",
       "state_code                                    \n",
       "sc1               1      2        0          1\n",
       "sc10              1      1        0          0\n",
       "sc2               1      0        1          1"
      ]
     },
     "execution_count": 145,
     "metadata": {},
     "output_type": "execute_result"
    }
   ],
   "source": [
    "import pandas as pd\n",
    "import numpy as np\n",
    "import re\n",
    "\n",
    "\n",
    "def load_data(df):\n",
    "    list=['sch_1','!@sc_1','english maths chemistry']\n",
    "    list2=['sch_2','))sc_2','english physics chemistry']\n",
    "    list3=['sch_3','!@sc_2','maths biology']\n",
    "    list4=['sch_4','sc_2)_','french']\n",
    "    list5=['sch_5','sc_1#@','social_studies maths literature']\n",
    "    list6=['sch_6','sc_10#@','english maths history']\n",
    "    df.loc[len(df)] = list\n",
    "    df.loc[len(df)] = list2  \n",
    "    df.loc[len(df)] = list3\n",
    "    df.loc[len(df)] = list4 \n",
    "    df.loc[len(df)] = list5 \n",
    "    df.loc[len(df)] = list6\n",
    "    return df\n",
    "\n",
    "def statecount(df):\n",
    "    df['state_code'] = df['state_code'].str.replace(r'[^a-zA-Z0-9]', '')\n",
    "\n",
    "    df['subjects'] = df['subjects'].str.split(' ') \n",
    "\n",
    "    #DROP all schools offering less than 3 subjects\n",
    "    df = df[df['subjects'].apply(lambda subjects: len(subjects) >= 3)]\n",
    "    #df = df[df['subjects'].apply(len) >= 3]\n",
    "    df_exploded = df.explode('subjects')\n",
    "    grouped = df_exploded.groupby('state_code')\n",
    "    df_exploded['english'] = np.where(df_exploded['subjects']=='english',1,0)\n",
    "    df_exploded['chemistry'] = np.where(df_exploded['subjects']=='chemistry',1,0)\n",
    "    df_exploded['physics'] = np.where(df_exploded['subjects']=='physics',1,0)\n",
    "    df_exploded['maths'] = np.where(df_exploded['subjects']=='maths',1,0)\n",
    "    return grouped['english','maths','physics','chemistry'].sum()\n",
    "\n",
    "df = pd.DataFrame(columns=['school_id', 'state_code','subjects'])\n",
    "df =load_data(df)\n",
    "result =statecount(df) \n",
    "result\n"
   ]
  }
 ],
 "metadata": {
  "kernelspec": {
   "display_name": "base",
   "language": "python",
   "name": "python3"
  },
  "language_info": {
   "codemirror_mode": {
    "name": "ipython",
    "version": 3
   },
   "file_extension": ".py",
   "mimetype": "text/x-python",
   "name": "python",
   "nbconvert_exporter": "python",
   "pygments_lexer": "ipython3",
   "version": "3.8.8"
  },
  "orig_nbformat": 4,
  "vscode": {
   "interpreter": {
    "hash": "f529cd43cd1b6a734ae14126c00545461456752d68fb4d42a842c7a4d525c261"
   }
  }
 },
 "nbformat": 4,
 "nbformat_minor": 2
}
